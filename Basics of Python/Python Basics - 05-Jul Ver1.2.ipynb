{
 "cells": [
  {
   "cell_type": "code",
   "execution_count": 1,
   "metadata": {},
   "outputs": [
    {
     "name": "stdout",
     "output_type": "stream",
     "text": [
      "10\n"
     ]
    }
   ],
   "source": [
    "#Input and Output\n",
    "#String operations\n",
    "#loops\n",
    "#Functions  - 50%\n",
    "a = 10\n",
    "print(a)"
   ]
  },
  {
   "cell_type": "code",
   "execution_count": 2,
   "metadata": {},
   "outputs": [
    {
     "name": "stdout",
     "output_type": "stream",
     "text": [
      "enter your age32\n",
      "your age is  32\n"
     ]
    }
   ],
   "source": [
    "x=int(input('enter your age'))\n",
    "print('your age is ',x)"
   ]
  },
  {
   "cell_type": "code",
   "execution_count": 9,
   "metadata": {},
   "outputs": [
    {
     "name": "stdout",
     "output_type": "stream",
     "text": [
      "Enter the 5 number10,12,45,56\n"
     ]
    }
   ],
   "source": [
    "#how to enter multiple values in the single line\n",
    "a = input('Enter the 5 number').split(',')"
   ]
  },
  {
   "cell_type": "code",
   "execution_count": 10,
   "metadata": {},
   "outputs": [
    {
     "name": "stdout",
     "output_type": "stream",
     "text": [
      "['10', '12', '45', '56']\n"
     ]
    }
   ],
   "source": [
    "print(a)"
   ]
  },
  {
   "cell_type": "code",
   "execution_count": 11,
   "metadata": {},
   "outputs": [
    {
     "name": "stdout",
     "output_type": "stream",
     "text": [
      "enter 5 numbers12,45,6,23\n"
     ]
    }
   ],
   "source": [
    "a = [int(x) for x in input('enter 5 numbers').split(',')]"
   ]
  },
  {
   "cell_type": "code",
   "execution_count": 12,
   "metadata": {},
   "outputs": [
    {
     "name": "stdout",
     "output_type": "stream",
     "text": [
      "[12, 45, 6, 23]\n"
     ]
    }
   ],
   "source": [
    "print(a)"
   ]
  },
  {
   "cell_type": "code",
   "execution_count": 13,
   "metadata": {},
   "outputs": [
    {
     "data": {
      "text/plain": [
       "list"
      ]
     },
     "execution_count": 13,
     "metadata": {},
     "output_type": "execute_result"
    }
   ],
   "source": [
    "type(a)"
   ]
  },
  {
   "cell_type": "code",
   "execution_count": 15,
   "metadata": {},
   "outputs": [
    {
     "name": "stdout",
     "output_type": "stream",
     "text": [
      "enter the vallue10,20,30,40,50\n",
      "the sum is  150\n"
     ]
    }
   ],
   "source": [
    "a,b,c,d,e = [int(x) for x in input('enter the vallue').split(',')]\n",
    "print('the sum is ', a+b+c+d+e)"
   ]
  },
  {
   "cell_type": "code",
   "execution_count": 16,
   "metadata": {},
   "outputs": [
    {
     "name": "stdout",
     "output_type": "stream",
     "text": [
      "enter the value10\n",
      "enter the value20\n",
      "enter the value30\n",
      "enter the value40\n",
      "enter the value50\n",
      "the sum is  150\n"
     ]
    }
   ],
   "source": [
    "a = int(input('enter the value'))\n",
    "b = int(input('enter the value'))\n",
    "c = int(input('enter the value'))\n",
    "d = int(input('enter the value'))\n",
    "e = int(input('enter the value'))\n",
    "\n",
    "x = a+b+c+d+e\n",
    "print('the sum is ',x)"
   ]
  },
  {
   "cell_type": "code",
   "execution_count": 22,
   "metadata": {},
   "outputs": [
    {
     "name": "stdout",
     "output_type": "stream",
     "text": [
      "enter the vallue'karna',True,10.3,20,36\n",
      "karna True 10.3 20 36\n"
     ]
    }
   ],
   "source": [
    "#eval command to evalueate the data type\n",
    "# by default data type is str\n",
    "a,b,c,d,e = [eval(x) for x in input('enter the vallue').split(',')]\n",
    "print(a,b,c,d,e)"
   ]
  },
  {
   "cell_type": "code",
   "execution_count": 23,
   "metadata": {},
   "outputs": [
    {
     "name": "stdout",
     "output_type": "stream",
     "text": [
      "<class 'str'>\n",
      "<class 'bool'>\n",
      "<class 'float'>\n",
      "<class 'int'>\n",
      "<class 'int'>\n"
     ]
    }
   ],
   "source": [
    "print(type(a))\n",
    "print(type(b))\n",
    "print(type(c))\n",
    "print(type(d))\n",
    "print(type(e))"
   ]
  },
  {
   "cell_type": "code",
   "execution_count": 24,
   "metadata": {},
   "outputs": [
    {
     "name": "stdout",
     "output_type": "stream",
     "text": [
      "enter the value10\n",
      "enter the value12\n",
      "enter the value14\n",
      "enter the value4\n",
      "enter the value5\n",
      "the sum is  45\n"
     ]
    }
   ],
   "source": [
    "a = eval(input('enter the value'))\n",
    "b = eval(input('enter the value'))\n",
    "c = eval(input('enter the value'))\n",
    "d = eval(input('enter the value'))\n",
    "e = eval(input('enter the value'))\n",
    "\n",
    "x = a+b+c+d+e\n",
    "print('the sum is ',x)"
   ]
  },
  {
   "cell_type": "code",
   "execution_count": 25,
   "metadata": {},
   "outputs": [
    {
     "name": "stdout",
     "output_type": "stream",
     "text": [
      "hello\n",
      "\n",
      "hello\n"
     ]
    }
   ],
   "source": [
    "#Outputs\n",
    "print('hello')\n",
    "print()\n",
    "print('hello')"
   ]
  },
  {
   "cell_type": "code",
   "execution_count": 26,
   "metadata": {},
   "outputs": [
    {
     "name": "stdout",
     "output_type": "stream",
     "text": [
      "hello \n",
      " all\n",
      "hello \t all\n"
     ]
    }
   ],
   "source": [
    "print('hello \\n all')\n",
    "print('hello \\t all')"
   ]
  },
  {
   "cell_type": "code",
   "execution_count": 30,
   "metadata": {},
   "outputs": [
    {
     "name": "stdout",
     "output_type": "stream",
     "text": [
      "karan kumar\n"
     ]
    }
   ],
   "source": [
    "#concatenate\n",
    "print('karan' + ' ' + 'kumar')"
   ]
  },
  {
   "cell_type": "code",
   "execution_count": 33,
   "metadata": {},
   "outputs": [
    {
     "name": "stdout",
     "output_type": "stream",
     "text": [
      "values are  10 20 30\n",
      "values are /10/20/30\n",
      "values are  10 20 30\n"
     ]
    }
   ],
   "source": [
    "#Form\n",
    "a,b,c = 10, 20, 30\n",
    "print('values are ', a,b,c)\n",
    "print('values are ', a,b,c,sep='/') # you can use any seperator\n",
    "print('values are ', a,b,c,sep=None) \n"
   ]
  },
  {
   "cell_type": "code",
   "execution_count": 34,
   "metadata": {},
   "outputs": [
    {
     "name": "stdout",
     "output_type": "stream",
     "text": [
      "hello studnets welcome to the python world "
     ]
    }
   ],
   "source": [
    "print('hello', end = ' ')\n",
    "print('studnets', end = ' ')\n",
    "print('welcome to the python world', end = ' ')"
   ]
  },
  {
   "cell_type": "code",
   "execution_count": 35,
   "metadata": {},
   "outputs": [
    {
     "name": "stdout",
     "output_type": "stream",
     "text": [
      "hello\n",
      "studnets\n",
      "welcome to the python world\n"
     ]
    }
   ],
   "source": [
    "print('hello')\n",
    "print('studnets')\n",
    "print('welcome to the python world')"
   ]
  },
  {
   "cell_type": "code",
   "execution_count": 36,
   "metadata": {},
   "outputs": [
    {
     "name": "stdout",
     "output_type": "stream",
     "text": [
      "10-20-30-40------"
     ]
    }
   ],
   "source": [
    "print(10,20,30,40, sep='-',end='------')"
   ]
  },
  {
   "cell_type": "code",
   "execution_count": 41,
   "metadata": {},
   "outputs": [
    {
     "name": "stdout",
     "output_type": "stream",
     "text": [
      "[1, 2, 3, 4] (1, 2, 3, 4) {1, 2, 3, 4} "
     ]
    }
   ],
   "source": [
    "list1 =[1,2,3,4]\n",
    "tupple1 =(1,2,3,4)\n",
    "set1 ={1,2,3,4}\n",
    "\n",
    "print(list1, end = ' ')\n",
    "print(tupple1, end = ' ')\n",
    "print(set1, end = ' ')"
   ]
  },
  {
   "cell_type": "code",
   "execution_count": 42,
   "metadata": {},
   "outputs": [
    {
     "name": "stdout",
     "output_type": "stream",
     "text": [
      "[1, 2, 3, 4] (1, 2, 3, 4) {1, 2, 3, 4} "
     ]
    }
   ],
   "source": [
    "print(list1, sep ='+', end = ' ')\n",
    "print(tupple1, sep ='+', end = ' ')\n",
    "print(set1, sep ='+', end = ' ')"
   ]
  },
  {
   "cell_type": "code",
   "execution_count": 45,
   "metadata": {},
   "outputs": [
    {
     "name": "stdout",
     "output_type": "stream",
     "text": [
      "[1, 2, 3, 4]/(1, 2, 3, 4)/{1, 2, 3, 4}\n"
     ]
    }
   ],
   "source": [
    "print(list1, tupple1, set1, sep='/')"
   ]
  },
  {
   "cell_type": "code",
   "execution_count": 47,
   "metadata": {},
   "outputs": [
    {
     "name": "stdout",
     "output_type": "stream",
     "text": [
      "the value is 1\n",
      "the value is 1.5\n"
     ]
    }
   ],
   "source": [
    "a,b,c = 1.5,45,20\n",
    "print('the value is', int(a))\n",
    "print('the value is', float(a))"
   ]
  },
  {
   "cell_type": "code",
   "execution_count": 54,
   "metadata": {},
   "outputs": [
    {
     "name": "stdout",
     "output_type": "stream",
     "text": [
      "hello amit, your salary is 10000,  and compay name is Deloitte\n",
      "hello amit, your salary is 10000,  and compay name is Deloitte\n",
      "hello amit, your salary is 10000,  and compay name is Deloitte\n"
     ]
    }
   ],
   "source": [
    "#Replacement operator\n",
    "name = 'amit'\n",
    "salar = '10000'\n",
    "company = \"Deloitte\"\n",
    "\n",
    "print('hello {}, your salary is {},  and compay name is {}'. format(name,salar,company))\n",
    "print('hello {0}, your salary is {1},  and compay name is {2}'. format(name,salar,company))\n",
    "print('hello {n}, your salary is {s},  and compay name is {c}'. format(n=name,s=salar,c=company))"
   ]
  },
  {
   "cell_type": "code",
   "execution_count": 62,
   "metadata": {},
   "outputs": [
    {
     "name": "stdout",
     "output_type": "stream",
     "text": [
      "pass\n"
     ]
    }
   ],
   "source": [
    "#If and else statement\n",
    "#Conditional Statement\n",
    "marks = 34\n",
    "if marks>= 34:\n",
    "    print('pass')\n",
    "elif marks<34:\n",
    "    print('fail')\n",
    "else:\n",
    "    print('fail')"
   ]
  },
  {
   "cell_type": "code",
   "execution_count": 63,
   "metadata": {},
   "outputs": [
    {
     "ename": "SyntaxError",
     "evalue": "invalid syntax (<ipython-input-63-528e23db8df3>, line 1)",
     "output_type": "error",
     "traceback": [
      "\u001b[1;36m  File \u001b[1;32m\"<ipython-input-63-528e23db8df3>\"\u001b[1;36m, line \u001b[1;32m1\u001b[0m\n\u001b[1;33m    If condition:\u001b[0m\n\u001b[1;37m               ^\u001b[0m\n\u001b[1;31mSyntaxError\u001b[0m\u001b[1;31m:\u001b[0m invalid syntax\n"
     ]
    }
   ],
   "source": [
    "If condition:\n",
    "    write # use tab before writing \n",
    "elif condition:\n",
    "    write# use tab before writing \n",
    "else:\n",
    "    write # use tab before writing "
   ]
  },
  {
   "cell_type": "code",
   "execution_count": 67,
   "metadata": {},
   "outputs": [
    {
     "name": "stdout",
     "output_type": "stream",
     "text": [
      "enter the number23\n",
      "enter the number25\n",
      "y is larger 25\n"
     ]
    }
   ],
   "source": [
    "x = eval(input('enter the number'))\n",
    "y = eval(input('enter the number'))\n",
    "\n",
    "if x>y:\n",
    "    print('x is larger',x)\n",
    "elif y>x:\n",
    "    print('y is larger',y)\n",
    "else:\n",
    "    print('x is larger', x)"
   ]
  },
  {
   "cell_type": "code",
   "execution_count": 68,
   "metadata": {},
   "outputs": [
    {
     "name": "stdout",
     "output_type": "stream",
     "text": [
      "k\n",
      "a\n",
      "r\n",
      "a\n",
      "n\n"
     ]
    }
   ],
   "source": [
    "#for loop\n",
    "a = 'karan'\n",
    "for i in a:\n",
    "    print(i)"
   ]
  },
  {
   "cell_type": "code",
   "execution_count": 73,
   "metadata": {},
   "outputs": [
    {
     "data": {
      "text/plain": [
       "5"
      ]
     },
     "execution_count": 73,
     "metadata": {},
     "output_type": "execute_result"
    }
   ],
   "source": [
    "len(a)"
   ]
  },
  {
   "cell_type": "code",
   "execution_count": 77,
   "metadata": {},
   "outputs": [
    {
     "name": "stdout",
     "output_type": "stream",
     "text": [
      "1\n",
      "2\n",
      "3\n",
      "4\n",
      "5\n"
     ]
    }
   ],
   "source": [
    "count = 0\n",
    "for x in a:\n",
    "    count = count+1\n",
    "    print(count)"
   ]
  },
  {
   "cell_type": "code",
   "execution_count": 78,
   "metadata": {},
   "outputs": [
    {
     "name": "stdout",
     "output_type": "stream",
     "text": [
      "5\n"
     ]
    }
   ],
   "source": [
    "count = 0\n",
    "for x in a:\n",
    "    count = count+1\n",
    "print(count)"
   ]
  },
  {
   "cell_type": "code",
   "execution_count": 84,
   "metadata": {},
   "outputs": [
    {
     "name": "stdout",
     "output_type": "stream",
     "text": [
      "profit ratio is  0.12583745994756773\n",
      "profit ratio is  0.13316892725030827\n",
      "profit ratio is  0.06457046603032005\n",
      "profit ratio is  0.10316985645933015\n"
     ]
    }
   ],
   "source": [
    "sales = [3433,3244,5343,3344]\n",
    "profit = [432,432,345,345]\n",
    "\n",
    "for i in range(0,len(sales)):\n",
    "    x= profit[i]/sales[i]\n",
    "    print('profit ratio is ', float(x) )\n",
    "    i = i+1"
   ]
  },
  {
   "cell_type": "code",
   "execution_count": 87,
   "metadata": {},
   "outputs": [
    {
     "name": "stdout",
     "output_type": "stream",
     "text": [
      "0.12583745994756773\n",
      "0.13316892725030827\n",
      "0.06457046603032005\n",
      "0.10316985645933015\n"
     ]
    }
   ],
   "source": [
    "#itterate the list\n",
    "for (x,y) in zip(profit,sales):\n",
    "    print(x/y)"
   ]
  },
  {
   "cell_type": "code",
   "execution_count": 89,
   "metadata": {},
   "outputs": [
    {
     "name": "stdout",
     "output_type": "stream",
     "text": [
      "total coupon left are 5\n",
      "total coupon left are 4\n",
      "total coupon left are 3\n",
      "total coupon left are 2\n",
      "total coupon left are 1\n",
      "total coupon left are 0\n",
      "No coupouns are left\n"
     ]
    }
   ],
   "source": [
    "#while loop\n",
    "\n",
    "# while True:\n",
    "#   print('hi')\n",
    "c = 5\n",
    "u = 0\n",
    "\n",
    "while u<6:\n",
    "    print('total coupon left are', c-u)\n",
    "    u=u+1\n",
    "print('No coupouns are left')"
   ]
  },
  {
   "cell_type": "code",
   "execution_count": 91,
   "metadata": {},
   "outputs": [
    {
     "name": "stdout",
     "output_type": "stream",
     "text": [
      "good morning\n"
     ]
    }
   ],
   "source": [
    "#Functions in python\n",
    "\n",
    "# creating the function systax is 'def nameofthefunction():'\n",
    "# write\n",
    "# close the funtion\n",
    "\n",
    "def greeting():\n",
    "    print('good morning')\n",
    "greeting()"
   ]
  },
  {
   "cell_type": "code",
   "execution_count": 96,
   "metadata": {},
   "outputs": [
    {
     "name": "stdout",
     "output_type": "stream",
     "text": [
      "enter the nameKaran\n",
      "Hello  Karan good morning\n"
     ]
    }
   ],
   "source": [
    "def greeting(name = input('enter the name')):\n",
    "    #this function help to greet the guest\n",
    "    print('Hello ', name, 'good morning')\n",
    "greeting()"
   ]
  },
  {
   "cell_type": "code",
   "execution_count": 99,
   "metadata": {},
   "outputs": [
    {
     "name": "stdout",
     "output_type": "stream",
     "text": [
      "enter ther number15\n",
      "Odd number 15\n"
     ]
    }
   ],
   "source": [
    "def oddoreven(x=int(input('enter ther number'))):\n",
    "    if x%2==0:\n",
    "        print(\"Even number\", x)\n",
    "    else:\n",
    "        print(\"Odd number\", x)\n",
    "oddoreven()"
   ]
  },
  {
   "cell_type": "code",
   "execution_count": 101,
   "metadata": {},
   "outputs": [
    {
     "name": "stdout",
     "output_type": "stream",
     "text": [
      "enter ther year2015\n",
      "Not a leap year 2015\n"
     ]
    }
   ],
   "source": [
    "def leapyear(x=int(input('enter ther year'))):\n",
    "    if x%4==0:\n",
    "        print(\"Leap year\", x)\n",
    "    else:\n",
    "        print(\"Not a leap year\", x)\n",
    "leapyear()"
   ]
  },
  {
   "cell_type": "code",
   "execution_count": 109,
   "metadata": {},
   "outputs": [
    {
     "data": {
      "text/plain": [
       "(990, 0.99)"
      ]
     },
     "execution_count": 109,
     "metadata": {},
     "output_type": "execute_result"
    }
   ],
   "source": [
    "#to save the output use return command\n",
    "\n",
    "def finan(rev,exp):\n",
    "    profit = rev-exp\n",
    "    proration = profit/rev\n",
    "    return profit, proration\n",
    "finan(1000,10)\n",
    "x = finan(1000,10)\n",
    "x"
   ]
  },
  {
   "cell_type": "code",
   "execution_count": 113,
   "metadata": {},
   "outputs": [
    {
     "data": {
      "text/plain": [
       "tuple"
      ]
     },
     "execution_count": 113,
     "metadata": {},
     "output_type": "execute_result"
    }
   ],
   "source": [
    "type(x)"
   ]
  },
  {
   "cell_type": "code",
   "execution_count": 114,
   "metadata": {},
   "outputs": [
    {
     "data": {
      "text/plain": [
       "(990, 0.99)"
      ]
     },
     "execution_count": 114,
     "metadata": {},
     "output_type": "execute_result"
    }
   ],
   "source": [
    "x"
   ]
  },
  {
   "cell_type": "code",
   "execution_count": 115,
   "metadata": {},
   "outputs": [
    {
     "data": {
      "text/plain": [
       "{'profit': 990, 'profit_ration': 0.99}"
      ]
     },
     "execution_count": 115,
     "metadata": {},
     "output_type": "execute_result"
    }
   ],
   "source": [
    "def finan(rev,exp):\n",
    "    profit = rev-exp\n",
    "    proration = profit/rev\n",
    "    return {'profit':profit, 'profit_ration':proration}\n",
    "finan(1000,10)\n",
    "x = finan(1000,10)\n",
    "x"
   ]
  },
  {
   "cell_type": "code",
   "execution_count": 121,
   "metadata": {},
   "outputs": [
    {
     "name": "stdout",
     "output_type": "stream",
     "text": [
      "33\n",
      "Hello karan welcome\n",
      "hello stud\n"
     ]
    }
   ],
   "source": [
    "#types of argyements in the function\n",
    "#1 positional arguments\n",
    "\n",
    "def sum(a,b):\n",
    "    print(a+b)\n",
    "sum(10,23)\n",
    "\n",
    "#2 keyword arguments\n",
    "\n",
    "def greeting(name,msg):\n",
    "    print('Hello', name, msg)\n",
    "greeting(name='karan',msg='welcome')\n",
    "\n",
    "#3 default arguments\n",
    "\n",
    "def greeting(name='stud'):\n",
    "    print('hello',name)\n",
    "greeting()\n",
    "\n"
   ]
  },
  {
   "cell_type": "code",
   "execution_count": 122,
   "metadata": {},
   "outputs": [
    {
     "name": "stdout",
     "output_type": "stream",
     "text": [
      "10\n",
      "30\n",
      "34\n",
      "38\n",
      "43\n",
      "48\n"
     ]
    }
   ],
   "source": [
    "sum(10,20,4,4,5,5)"
   ]
  },
  {
   "cell_type": "code",
   "execution_count": 135,
   "metadata": {},
   "outputs": [],
   "source": [
    "#4 variable lenth arguments\n",
    "\n",
    "#this is amazing argument give option to enter mutiple values\n",
    "def sum(*a): # tuple\n",
    "    result = 0\n",
    "    for i in a:\n",
    "    #    \n",
    "        result = result+i\n",
    "    print(a)\n",
    "    print(result)\n"
   ]
  },
  {
   "cell_type": "code",
   "execution_count": 136,
   "metadata": {},
   "outputs": [
    {
     "name": "stdout",
     "output_type": "stream",
     "text": [
      "(10, 20, 10, 50)\n",
      "90\n"
     ]
    }
   ],
   "source": [
    "sum(10,20,10,50)\n"
   ]
  },
  {
   "cell_type": "code",
   "execution_count": 137,
   "metadata": {},
   "outputs": [
    {
     "data": {
      "text/plain": [
       "['False',\n",
       " 'None',\n",
       " 'True',\n",
       " 'and',\n",
       " 'as',\n",
       " 'assert',\n",
       " 'async',\n",
       " 'await',\n",
       " 'break',\n",
       " 'class',\n",
       " 'continue',\n",
       " 'def',\n",
       " 'del',\n",
       " 'elif',\n",
       " 'else',\n",
       " 'except',\n",
       " 'finally',\n",
       " 'for',\n",
       " 'from',\n",
       " 'global',\n",
       " 'if',\n",
       " 'import',\n",
       " 'in',\n",
       " 'is',\n",
       " 'lambda',\n",
       " 'nonlocal',\n",
       " 'not',\n",
       " 'or',\n",
       " 'pass',\n",
       " 'raise',\n",
       " 'return',\n",
       " 'try',\n",
       " 'while',\n",
       " 'with',\n",
       " 'yield']"
      ]
     },
     "execution_count": 137,
     "metadata": {},
     "output_type": "execute_result"
    }
   ],
   "source": [
    "import keyword\n",
    "keyword.kwlist"
   ]
  },
  {
   "cell_type": "code",
   "execution_count": 139,
   "metadata": {},
   "outputs": [
    {
     "name": "stdout",
     "output_type": "stream",
     "text": [
      "this is outer function\n",
      "this is inner funtion\n"
     ]
    }
   ],
   "source": [
    "#how to call function inside the function\n",
    "\n",
    "def outer():\n",
    "    print('this is outer function')\n",
    "    def inner():\n",
    "        print('this is inner funtion')\n",
    "    inner()\n",
    "outer()"
   ]
  },
  {
   "cell_type": "code",
   "execution_count": 140,
   "metadata": {},
   "outputs": [
    {
     "name": "stdout",
     "output_type": "stream",
     "text": [
      "this is outer function\n",
      "this is inner funtion\n"
     ]
    }
   ],
   "source": [
    "#how to call the funtion\n",
    "outer()\n"
   ]
  },
  {
   "cell_type": "code",
   "execution_count": 141,
   "metadata": {},
   "outputs": [
    {
     "data": {
      "text/plain": [
       "16"
      ]
     },
     "execution_count": 141,
     "metadata": {},
     "output_type": "execute_result"
    }
   ],
   "source": [
    "def square(n):\n",
    "    return n*n\n",
    "square(4)"
   ]
  },
  {
   "cell_type": "code",
   "execution_count": 142,
   "metadata": {},
   "outputs": [
    {
     "data": {
      "text/plain": [
       "16"
      ]
     },
     "execution_count": 142,
     "metadata": {},
     "output_type": "execute_result"
    }
   ],
   "source": [
    "#how to use lambda funtion\n",
    "m1 = lambda n : n*n\n",
    "m1(4)"
   ]
  },
  {
   "cell_type": "code",
   "execution_count": 143,
   "metadata": {},
   "outputs": [
    {
     "data": {
      "text/plain": [
       "5"
      ]
     },
     "execution_count": 143,
     "metadata": {},
     "output_type": "execute_result"
    }
   ],
   "source": [
    "s = lambda a,b : a+b\n",
    "s(2,3)"
   ]
  },
  {
   "cell_type": "code",
   "execution_count": 144,
   "metadata": {},
   "outputs": [
    {
     "data": {
      "text/plain": [
       "20"
      ]
     },
     "execution_count": 144,
     "metadata": {},
     "output_type": "execute_result"
    }
   ],
   "source": [
    "s = lambda a, b : a if a>b else b\n",
    "s(10,20)"
   ]
  },
  {
   "cell_type": "code",
   "execution_count": null,
   "metadata": {},
   "outputs": [],
   "source": [
    "#String operation\n",
    "#exception handling\n",
    "#file handling\n",
    "#regular expressions\n",
    "#oops concept\n",
    "\n",
    "#Data Science\n",
    "#Statistics and Probability \n",
    "#Numpy\n",
    "#Pandas\n",
    "#Mataplotlin and seaborn\n",
    "#EDA\n",
    "#Data manipulation and data clearning\n",
    "#Regression\n",
    "#Classification\n",
    "#D.R\n",
    "#Clurstering\n",
    "#Time series\n",
    "#Reinforcement\n",
    "#XGBoost\n",
    "#Grid Search\n",
    "#Association Rule\n",
    "#Recommendation engine\n",
    "# K fold Techinque\n",
    "\n",
    "#Unbalanced data set - classification\n",
    "#model deployment"
   ]
  }
 ],
 "metadata": {
  "kernelspec": {
   "display_name": "Python 3",
   "language": "python",
   "name": "python3"
  },
  "language_info": {
   "codemirror_mode": {
    "name": "ipython",
    "version": 3
   },
   "file_extension": ".py",
   "mimetype": "text/x-python",
   "name": "python",
   "nbconvert_exporter": "python",
   "pygments_lexer": "ipython3",
   "version": "3.7.6"
  }
 },
 "nbformat": 4,
 "nbformat_minor": 4
}
